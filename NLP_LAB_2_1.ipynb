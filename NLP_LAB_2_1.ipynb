{
  "nbformat": 4,
  "nbformat_minor": 0,
  "metadata": {
    "colab": {
      "provenance": [],
      "include_colab_link": true
    },
    "kernelspec": {
      "name": "python3",
      "display_name": "Python 3"
    },
    "language_info": {
      "name": "python"
    }
  },
  "cells": [
    {
      "cell_type": "markdown",
      "metadata": {
        "id": "view-in-github",
        "colab_type": "text"
      },
      "source": [
        "<a href=\"https://colab.research.google.com/github/Harshitmaury123/NLP_LAB/blob/main/NLP_LAB_2_1.ipynb\" target=\"_parent\"><img src=\"https://colab.research.google.com/assets/colab-badge.svg\" alt=\"Open In Colab\"/></a>"
      ]
    },
    {
      "cell_type": "code",
      "source": [
        "%pip install automathon"
      ],
      "metadata": {
        "id": "ALultzlqeO-z",
        "outputId": "b2c2ced8-e946-4b31-9d65-e8ef907ea1d4",
        "colab": {
          "base_uri": "https://localhost:8080/"
        }
      },
      "execution_count": 20,
      "outputs": [
        {
          "output_type": "stream",
          "name": "stdout",
          "text": [
            "Requirement already satisfied: automathon in /usr/local/lib/python3.11/dist-packages (0.0.15)\n",
            "Requirement already satisfied: graphviz==0.16 in /usr/local/lib/python3.11/dist-packages (from automathon) (0.16)\n"
          ]
        }
      ]
    },
    {
      "cell_type": "code",
      "source": [
        "import string\n",
        "\n",
        "\n",
        "input_symbols = set(string.ascii_lowercase + \"_\")\n",
        "\n",
        "excluded = set(string.printable) - input_symbols\n",
        "\n",
        "def is_safe_for_graphviz(c):\n",
        "    return c not in {'\"', '\\\\', '\\n', '\\t', '\\r', '\\x0b', '\\x0c'}\n",
        "\n",
        "excluded = {c for c in excluded if is_safe_for_graphviz(c)}\n",
        "\n",
        "symbols = input_symbols.union(excluded)\n",
        "\n",
        "\n",
        "\n",
        "q0_q1_dict={}\n",
        "for char in input_symbols:\n",
        "  q0_q1_dict.update({char:'q1'})\n",
        "print(q0_q1_dict)\n",
        "\n",
        "q0_dead_dict={}\n",
        "for char in excluded:\n",
        "  q0_dead_dict.update({char:'q2'})\n",
        "\n",
        "q0_dict=q0_q1_dict.copy()\n",
        "q0_dict.update(q0_dead_dict)\n",
        "\n",
        "q1_dead_dict={}\n",
        "for char in excluded:\n",
        "  q1_dead_dict.update({char:'q2'})\n",
        "\n",
        "q1_q1_dict={}\n",
        "for char in input_symbols:\n",
        "  q1_q1_dict.update({char:'q1'})\n",
        "\n",
        "q1_dict=q1_q1_dict.copy()\n",
        "q1_dict.update(q1_dead_dict)\n",
        "\n",
        "q2_dead_dict={}\n",
        "for char in excluded:\n",
        "  q2_dead_dict.update({char:'q2'})\n",
        "\n",
        "print(q1_dict)"
      ],
      "metadata": {
        "colab": {
          "base_uri": "https://localhost:8080/"
        },
        "id": "x-9nwxeO7htJ",
        "outputId": "b20a0608-7aca-499e-bcd1-9cfe6ce5e98c"
      },
      "execution_count": 21,
      "outputs": [
        {
          "output_type": "stream",
          "name": "stdout",
          "text": [
            "{'a': 'q1', 'p': 'q1', 'h': 'q1', 'g': 'q1', 'y': 'q1', 'w': 'q1', 'd': 'q1', 'v': 'q1', 'm': 'q1', 'x': 'q1', 't': 'q1', 'f': 'q1', 'j': 'q1', 'l': 'q1', '_': 'q1', 'e': 'q1', 'n': 'q1', 'k': 'q1', 'i': 'q1', 'q': 'q1', 'r': 'q1', 'z': 'q1', 'u': 'q1', 'b': 'q1', 's': 'q1', 'o': 'q1', 'c': 'q1'}\n",
            "{'a': 'q1', 'p': 'q1', 'h': 'q1', 'g': 'q1', 'y': 'q1', 'w': 'q1', 'd': 'q1', 'v': 'q1', 'm': 'q1', 'x': 'q1', 't': 'q1', 'f': 'q1', 'j': 'q1', 'l': 'q1', '_': 'q1', 'e': 'q1', 'n': 'q1', 'k': 'q1', 'i': 'q1', 'q': 'q1', 'r': 'q1', 'z': 'q1', 'u': 'q1', 'b': 'q1', 's': 'q1', 'o': 'q1', 'c': 'q1', 'Z': 'q2', '#': 'q2', '&': 'q2', '{': 'q2', '>': 'q2', 'V': 'q2', \"'\": 'q2', '2': 'q2', 'E': 'q2', 'Q': 'q2', '?': 'q2', '!': 'q2', '.': 'q2', ']': 'q2', ' ': 'q2', 'W': 'q2', '@': 'q2', '=': 'q2', '(': 'q2', 'O': 'q2', '7': 'q2', ')': 'q2', '6': 'q2', 'G': 'q2', ':': 'q2', 'X': 'q2', 'C': 'q2', '5': 'q2', 'P': 'q2', '~': 'q2', '4': 'q2', ',': 'q2', 'M': 'q2', 'K': 'q2', '0': 'q2', 'D': 'q2', 'L': 'q2', '+': 'q2', 'S': 'q2', '8': 'q2', 'N': 'q2', '`': 'q2', 'J': 'q2', 'U': 'q2', 'A': 'q2', '3': 'q2', '|': 'q2', 'Y': 'q2', 'H': 'q2', 'T': 'q2', 'R': 'q2', '1': 'q2', '[': 'q2', '}': 'q2', 'F': 'q2', '^': 'q2', '/': 'q2', 'B': 'q2', 'I': 'q2', '9': 'q2', ';': 'q2', '*': 'q2', '$': 'q2', '<': 'q2', '%': 'q2', '-': 'q2'}\n"
          ]
        }
      ]
    },
    {
      "cell_type": "code",
      "source": [
        "from automathon import DFA\n",
        "q = {'q0', 'q1', 'q2'}\n",
        "sigma = symbols\n",
        "delta = { 'q0' : q0_dict,\n",
        "          'q1' : q1_dict,\n",
        "          'q2' : q2_dead_dict\n",
        "        }\n",
        "initial_state = 'q0'\n",
        "f = {'q0','q1'}\n",
        "\n",
        "automata = DFA(q, sigma, delta, initial_state, f)"
      ],
      "metadata": {
        "id": "mjWSJHpE8qo9"
      },
      "execution_count": 22,
      "outputs": []
    },
    {
      "cell_type": "code",
      "source": [
        "automata.is_valid()"
      ],
      "metadata": {
        "id": "1WpIwxMu_lMO",
        "colab": {
          "base_uri": "https://localhost:8080/"
        },
        "outputId": "60ceb8a1-db6b-4d09-c0b0-4cbfb9e6517b"
      },
      "execution_count": 23,
      "outputs": [
        {
          "output_type": "execute_result",
          "data": {
            "text/plain": [
              "True"
            ]
          },
          "metadata": {},
          "execution_count": 23
        }
      ]
    },
    {
      "cell_type": "code",
      "source": [
        "result=[]\n",
        "with open('brown_nouns.txt','r') as f:\n",
        "  for word in f:\n",
        "    word = word.strip()\n",
        "    if(automata.accept(word)):\n",
        "      result.append(\"Accepted\")\n",
        "    else:\n",
        "      result.append(\"Not Accepted\")\n",
        "\n",
        "with open('results.txt','w+') as f:\n",
        "  for res in result:\n",
        "    f.write(res + '\\n')"
      ],
      "metadata": {
        "id": "CC9At7WC_w9v"
      },
      "execution_count": 24,
      "outputs": []
    },
    {
      "cell_type": "code",
      "source": [
        "from graphviz import Digraph\n",
        "import string\n",
        "\n",
        "q0_q1 = sorted(input_symbols)\n",
        "q0_q2 = sorted(excluded)\n",
        "\n",
        "q1_q1 = q0_q1\n",
        "q1_q2 = q0_q2\n",
        "\n",
        "q2_q2 = q0_q2\n",
        "dot = Digraph(name=\"DFA\", format='png')\n",
        "dot.attr(rankdir='LR', size='10,5', fontsize='20')\n",
        "\n",
        "\n",
        "dot.attr('node', shape='circle')\n",
        "dot.node('q0')\n",
        "dot.node('q1', shape='doublecircle')\n",
        "dot.node('q2')\n",
        "\n",
        "\n",
        "dot.node('', shape='plaintext', label='')\n",
        "dot.edge('', 'q0')\n",
        "\n",
        "\n",
        "def fmt(symbols):\n",
        "    return ', '.join(sorted(symbols))\n",
        "\n",
        "\n",
        "dot.edge('q0', 'q1', label=fmt(q0_q1))\n",
        "dot.edge('q0', 'q2', label=fmt(q0_q2))\n",
        "\n",
        "dot.edge('q1', 'q1', label=fmt(q1_q1))\n",
        "dot.edge('q1', 'q2', label=fmt(q1_q2))\n",
        "\n",
        "dot.edge('q2', 'q2', label=fmt(q2_q2))\n",
        "\n",
        "\n",
        "dot.render('clean_dfa', view=True)\n"
      ],
      "metadata": {
        "id": "b985piotBLys",
        "colab": {
          "base_uri": "https://localhost:8080/",
          "height": 36
        },
        "outputId": "37d4b661-7e1c-4f34-b1bb-768c3058e700"
      },
      "execution_count": 25,
      "outputs": [
        {
          "output_type": "execute_result",
          "data": {
            "text/plain": [
              "'clean_dfa.png'"
            ],
            "application/vnd.google.colaboratory.intrinsic+json": {
              "type": "string"
            }
          },
          "metadata": {},
          "execution_count": 25
        }
      ]
    }
  ]
}