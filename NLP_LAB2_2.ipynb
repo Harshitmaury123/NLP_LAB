{
  "nbformat": 4,
  "nbformat_minor": 0,
  "metadata": {
    "colab": {
      "provenance": [],
      "authorship_tag": "ABX9TyPQIPITmaXT4oR0XbbtMXWb",
      "include_colab_link": true
    },
    "kernelspec": {
      "name": "python3",
      "display_name": "Python 3"
    },
    "language_info": {
      "name": "python"
    }
  },
  "cells": [
    {
      "cell_type": "markdown",
      "metadata": {
        "id": "view-in-github",
        "colab_type": "text"
      },
      "source": [
        "<a href=\"https://colab.research.google.com/github/Harshitmaury123/NLP_LAB/blob/main/NLP_LAB2_2.ipynb\" target=\"_parent\"><img src=\"https://colab.research.google.com/assets/colab-badge.svg\" alt=\"Open In Colab\"/></a>"
      ]
    },
    {
      "cell_type": "code",
      "execution_count": 12,
      "metadata": {
        "colab": {
          "base_uri": "https://localhost:8080/"
        },
        "id": "dnRntkNSa82X",
        "outputId": "1b30652d-d5d0-48ca-f667-98b56e8b0f28"
      },
      "outputs": [
        {
          "output_type": "stream",
          "name": "stdout",
          "text": [
            "✅ FST processing complete! Output saved to fst_output.txt\n"
          ]
        }
      ],
      "source": [
        "def analyze_noun(word):\n",
        "    # Plural endings handled\n",
        "\n",
        "    if word.endswith(\"ies\"):\n",
        "        # Rule 2 (Y replacement)\n",
        "        root = word[:-3] + \"y\"\n",
        "        return f\"{word} = {root}+N+PL\"\n",
        "    elif word.endswith(\"es\"):\n",
        "        # Check for rule 1 (E insertion)\n",
        "        if any(word[:-2].endswith(suffix) for suffix in [\"s\", \"z\", \"x\", \"ch\", \"sh\"]):\n",
        "            root = word[:-2]\n",
        "            return f\"{word} = {root}+N+PL\"\n",
        "        else:\n",
        "            return \"Invalid Word\"\n",
        "    elif word.endswith(\"ess\"):\n",
        "      root=word\n",
        "      return f\"{word}={root}+N+SG\"\n",
        "    elif word.endswith(\"s\"):\n",
        "        # Rule 3 (S addition) - avoid false positives like \"is\"\n",
        "        root = word[:-1]\n",
        "        if any(word[-1].endswith(suffix) for suffix in [\"s\", \"z\", \"x\", \"ch\", \"sh\"]):\n",
        "            return \"Invalid word\"\n",
        "        if root.isalpha() and len(root) > 0:\n",
        "            return f\"{word} = {root}+N+PL\"\n",
        "        else:\n",
        "            return \"Invalid Word\"\n",
        "    else:\n",
        "        # Singular form\n",
        "        return f\"{word} = {word}+N+SG\"\n",
        "\n",
        "# File paths\n",
        "input_file = \"brown_nouns.txt\"\n",
        "output_file = \"fst_output.txt\"\n",
        "\n",
        "with open(input_file, \"r\", encoding=\"utf-8\") as f:\n",
        "    words = [line.strip() for line in f if line.strip()]\n",
        "\n",
        "results = []\n",
        "for word in words:\n",
        "    results.append(analyze_noun(word))\n",
        "\n",
        "# Save results\n",
        "with open(output_file, \"w\", encoding=\"utf-8\") as f:\n",
        "    f.write(\"\\n\".join(results))\n",
        "\n",
        "print(f\"✅ FST processing complete! Output saved to {output_file}\")"
      ]
    },
    {
      "cell_type": "code",
      "source": [
        "analyze_noun(\"foxs\")"
      ],
      "metadata": {
        "colab": {
          "base_uri": "https://localhost:8080/",
          "height": 36
        },
        "id": "GrIB9a6xhe2r",
        "outputId": "8f60c758-0116-4f88-825a-0298a864a964"
      },
      "execution_count": 13,
      "outputs": [
        {
          "output_type": "execute_result",
          "data": {
            "text/plain": [
              "'Invalid word'"
            ],
            "application/vnd.google.colaboratory.intrinsic+json": {
              "type": "string"
            }
          },
          "metadata": {},
          "execution_count": 13
        }
      ]
    }
  ]
}